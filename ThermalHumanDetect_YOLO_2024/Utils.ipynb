{
 "cells": [
  {
   "cell_type": "markdown",
   "metadata": {},
   "source": [
    "Huggingface, Roboflow\n"
   ]
  },
  {
   "cell_type": "markdown",
   "metadata": {},
   "source": [
    "### 1. GPU Selection"
   ]
  },
  {
   "cell_type": "markdown",
   "metadata": {},
   "source": [
    "Dưới đây là bảng so sánh các nền tảng cung cấp GPU miễn phí cho việc huấn luyện mô hình AI:\n",
    "\n",
    "| Nền tảng                       | Dung lượng lưu trữ | Thời gian chạy mỗi phiên | Hỗ trợ thực thi nền | Hạn mức sử dụng miễn phí     | Yêu cầu thẻ tín dụng |\n",
    "|---------------------------------|--------------------|--------------------------|--------------------|------------------------------|----------------------|\n",
    "| **Google Colab**                | 15GB               | 12 giờ                   | Không               | Không giới hạn, có Colab Pro  | Không                |\n",
    "| **Kaggle**                      | 20GB               | 12 giờ                   | Có                  | 33 giờ GPU mỗi tuần          | Không                |\n",
    "| **Amazon SageMaker Studio Lab**  | 15GB               | 4 giờ                    | Có                  | 8 giờ GPU mỗi 24 giờ          | Không                |\n",
    "| **Gradient by Paper Space**      | 5GB                | 6 giờ                    | Không               | Không giới hạn, GPU yếu hơn   | Không                |\n",
    "| **Microsoft Azure (Tài khoản sinh viên)** | 50GB      | Không giới hạn theo phiên | Có                  | 100 USD tín dụng cho sinh viên | Không                |\n",
    "\n",
    "Ghi chú:\n",
    "- **Google Colab** và **Kaggle** là hai nền tảng phổ biến nhất cho người mới bắt đầu với giao diện thân thiện và cộng đồng hỗ trợ lớn.\n",
    "- **Amazon SageMaker Studio Lab** cung cấp GPU mạnh nhất trong danh sách, nhưng thời gian sử dụng miễn phí hạn chế.\n",
    "- **Microsoft Azure** yêu cầu đăng ký tài khoản sinh viên nhưng cung cấp dung lượng lưu trữ lớn và nhiều lựa chọn GPU【21†source】【22†source】【24†source】【23†source】.\n",
    "\n",
    "Dưới đây là các liên kết mà mình đã tham khảo để đưa ra bảng so sánh các nền tảng cung cấp GPU miễn phí:\n",
    "\n",
    "1. **Google Colab và Kaggle**:\n",
    "   - Thông tin về Google Colab và Kaggle: [Toolify - Unlock the Power of Free Cloud-Based GPUs](https://www.toolify.ai/articles/unlock-the-power-of-free-cloud-based-gpus)【21†source】.\n",
    "\n",
    "2. **Amazon SageMaker Studio Lab**:\n",
    "   - Thông tin về Amazon SageMaker Studio Lab: [Toolify - Unlock the Power of Free Cloud-Based GPUs](https://www.toolify.ai/articles/unlock-the-power-of-free-cloud-based-gpus)【21†source】.\n",
    "\n",
    "3. **Gradient by Paper Space**:\n",
    "   - Thông tin về Gradient by Paper Space: [Toolify - Unlock the Power of Free Cloud-Based GPUs](https://www.toolify.ai/articles/unlock-the-power-of-free-cloud-based-gpus)【21†source】.\n",
    "\n",
    "4. **Microsoft Azure cho tài khoản sinh viên**:\n",
    "   - Thông tin về Microsoft Azure: [Azure AI Studio - Microsoft Azure](https://azure.microsoft.com/en-us/products/machine-learning/studio/)【24†source】【23†source】."
   ]
  },
  {
   "cell_type": "markdown",
   "metadata": {},
   "source": [
    "Microsoft Azure (Tài khoản sinh viên) có dễ sử dụng như Colab và Kaggle không? "
   ]
  },
  {
   "cell_type": "markdown",
   "metadata": {},
   "source": [
    "Dưới đây là bảng so sánh giữa **Microsoft Azure (Tài khoản sinh viên)**, **Google Colab**, và **Kaggle**:\n",
    "\n",
    "| Tiêu chí                       | Microsoft Azure (Tài khoản sinh viên)              | Google Colab                                | Kaggle                                      |\n",
    "|---------------------------------|----------------------------------------------------|---------------------------------------------|---------------------------------------------|\n",
    "| **Dễ sử dụng**                  | Khó hơn, yêu cầu kiến thức về cloud và DevOps.      | Dễ sử dụng, giao diện thân thiện, không cần cấu hình nhiều. | Dễ sử dụng, có nhiều tài nguyên công cộng hỗ trợ. |\n",
    "| **Giao diện người dùng**        | Phức tạp, yêu cầu biết quản lý các tài nguyên cloud như VM, storage. | Giao diện đơn giản, tương tự Jupyter Notebook. | Giao diện tương tự Colab, trực quan.       |\n",
    "| **Ngôn ngữ hỗ trợ**             | Nhiều ngôn ngữ: Python, R, Scala, DevOps Tools.    | Chủ yếu là Python, hỗ trợ Jupyter notebooks. | Chủ yếu là Python, cũng hỗ trợ Jupyter notebooks. |\n",
    "| **Tài nguyên**                  | $100 tín dụng cho sinh viên, 50GB lưu trữ.         | 15GB lưu trữ miễn phí, 12 giờ runtime mỗi phiên. | 20GB lưu trữ miễn phí, 12 giờ runtime mỗi phiên. |\n",
    "| **Hỗ trợ nền tảng**             | Hỗ trợ tốt cho các ứng dụng doanh nghiệp và tích hợp DevOps. | Không hỗ trợ background execution, phiên bị gián đoạn nếu đóng tab. | Hỗ trợ background execution, tiện lợi cho chạy dài hạn. |\n",
    "| **Cộng đồng hỗ trợ**            | Có tài liệu và hỗ trợ rộng rãi, nhưng yêu cầu hiểu biết chuyên sâu. | Cộng đồng lớn, dễ tìm tài liệu cho người mới bắt đầu. | Cộng đồng lớn, nhiều dataset và notebook có sẵn. |\n",
    "| **Yêu cầu thẻ tín dụng**        | Không yêu cầu thẻ tín dụng cho tài khoản sinh viên. | Không yêu cầu thẻ tín dụng.                 | Không yêu cầu thẻ tín dụng.                 |\n",
    "| **Thời gian sử dụng GPU miễn phí** | Tùy theo tín dụng và nhu cầu sử dụng của sinh viên. | Miễn phí, nhưng nâng cấp lên Colab Pro để có GPU tốt hơn. | 33 giờ GPU miễn phí mỗi tuần.              |\n",
    "\n",
    "Nhận xét:\n",
    "- **Google Colab** và **Kaggle** phù hợp cho người mới bắt đầu học AI và lập trình với giao diện đơn giản và hỗ trợ cộng đồng lớn.\n",
    "- **Microsoft Azure** cung cấp nhiều công cụ mạnh mẽ hơn và phù hợp cho các dự án lớn, nhưng có thể phức tạp hơn đối với người mới bắt đầu【21†source】【22†source】【23†source】【24†source】."
   ]
  },
  {
   "cell_type": "markdown",
   "metadata": {},
   "source": [
    "### 2. CPU Selection\n"
   ]
  },
  {
   "cell_type": "markdown",
   "metadata": {},
   "source": [
    "Here’s a comparison between the three GPU options available for your task on Kaggle, in table format:\n",
    "\n",
    "| **GPU Type** | **Specs** | **Pros** | **Cons** | **Recommendation** |\n",
    "|--------------|-----------|----------|----------|--------------------|\n",
    "| **GPU T4 x2** | 2x NVIDIA Tesla T4 (16 GB GDDR6 per GPU) | - Better parallelization due to two GPUs <br> - Faster training on large datasets <br> - Suitable for deep learning with large batch sizes | - May lead to overhead if model is small or data is not big enough to utilize two GPUs | **Best option for large models or datasets** that need faster training speed. Ideal for your YOLO training task with large image sets. |\n",
    "| **GPU P100**  | NVIDIA Tesla P100 (16 GB HBM2) | - High memory bandwidth <br> - Good for deep learning tasks with moderate dataset sizes | - Slower than T4s in terms of GPU parallelization | **Good for mid-sized datasets** and models that don’t require multiple GPUs. Suitable if you are dealing with moderate-sized data. |\n",
    "| **TPU VM v3-8** | Tensor Processing Unit (TPU) (128 GB HBM2 for v3-8) | - Optimized for TensorFlow workloads <br> - High performance for large-scale models in TensorFlow | - Limited support for PyTorch and other frameworks <br> - Complex setup compared to GPUs | Best suited for **TensorFlow-based** tasks. **Not recommended** if you are using PyTorch, as it requires more effort to set up.|\n",
    "\n",
    "Recommendation:\n",
    "For your YOLOv8 training on **Kaggle**, I recommend selecting **GPU T4 x2** as it provides the best performance for large models and datasets due to parallelization across two GPUs, which can significantly reduce training time."
   ]
  },
  {
   "cell_type": "markdown",
   "metadata": {},
   "source": []
  }
 ],
 "metadata": {
  "language_info": {
   "name": "python"
  }
 },
 "nbformat": 4,
 "nbformat_minor": 2
}
